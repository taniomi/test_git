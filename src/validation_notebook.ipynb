{
  "cells": [
    {
      "cell_type": "code",
      "execution_count": null,
      "metadata": {},
      "outputs": [],
      "source": [
        "# Validation Notebook for test_git CI/CD\n",
        "# Tests pandas import and DataFrame creation\n",
        "\n",
        "import pandas as pd\n",
        "\n",
        "# Create sample DataFrame\n",
        "data = {\n",
        "    'id': [1, 2, 3, 4, 5],\n",
        "    'name': ['Alice', 'Bob', 'Charlie', 'Diana', 'Eve'],\n",
        "    'value': [10.5, 20.3, 15.7, 30.2, 25.1]\n",
        "}\n",
        "df = pd.DataFrame(data)\n",
        "\n",
        "# Validate DataFrame\n",
        "print(\"DataFrame created successfully:\")\n",
        "print(df)\n",
        "\n",
        "# Basic assertion to ensure DataFrame has correct shape\n",
        "assert df.shape == (5, 3), f\"Expected shape (5, 3), got {df.shape}\"\n",
        "\n",
        "# If this cell runs without errors, validation passes\n",
        "print(\"Validation successful!\")"
      ]
    }
  ],
  "metadata": {
    "kernelspec": {
      "display_name": "Python 3",
      "language": "python",
      "name": "python3"
    },
    "language_info": {
      "codemirror_mode": {
        "name": "ipython",
        "version": 3
      },
      "file_extension": ".py",
      "mimetype": "text/x-python",
      "name": "python",
      "nbconvert_exporter": "python",
      "pygments_lexer": "ipython3",
      "version": "3.8.10"
    }
  },
  "nbformat": 4,
  "nbformat_minor": 5
}